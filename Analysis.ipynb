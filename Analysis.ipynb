{
 "cells": [
  {
   "cell_type": "code",
   "execution_count": 4,
   "metadata": {},
   "outputs": [],
   "source": [
    " import pandas as pd\n",
    " import numpy as np\n",
    " import matplotlib.pyplot as plt\n",
    " import seaborn as sns"
   ]
  },
  {
   "cell_type": "code",
   "execution_count": 27,
   "metadata": {},
   "outputs": [],
   "source": [
    "data_keys = list([x.keys() for x in data][0])"
   ]
  },
  {
   "cell_type": "code",
   "execution_count": 86,
   "metadata": {},
   "outputs": [],
   "source": [
    "#import json data\n",
    "df = pd.read_json('laureates_dataset.json')"
   ]
  },
  {
   "cell_type": "code",
   "execution_count": 88,
   "metadata": {},
   "outputs": [
    {
     "data": {
      "text/html": [
       "<div>\n",
       "<style scoped>\n",
       "    .dataframe tbody tr th:only-of-type {\n",
       "        vertical-align: middle;\n",
       "    }\n",
       "\n",
       "    .dataframe tbody tr th {\n",
       "        vertical-align: top;\n",
       "    }\n",
       "\n",
       "    .dataframe thead th {\n",
       "        text-align: right;\n",
       "    }\n",
       "</style>\n",
       "<table border=\"1\" class=\"dataframe\">\n",
       "  <thead>\n",
       "    <tr style=\"text-align: right;\">\n",
       "      <th></th>\n",
       "      <th>id</th>\n",
       "      <th>firstname</th>\n",
       "      <th>surname</th>\n",
       "      <th>born</th>\n",
       "      <th>died</th>\n",
       "      <th>bornCountry</th>\n",
       "      <th>bornCountryCode</th>\n",
       "      <th>bornCity</th>\n",
       "      <th>diedCountry</th>\n",
       "      <th>diedCountryCode</th>\n",
       "      <th>gender</th>\n",
       "      <th>prizes</th>\n",
       "      <th>diedCity</th>\n",
       "    </tr>\n",
       "  </thead>\n",
       "  <tbody>\n",
       "    <tr>\n",
       "      <th>0</th>\n",
       "      <td>2</td>\n",
       "      <td>Hendrik Antoon</td>\n",
       "      <td>Lorentz</td>\n",
       "      <td>1853-07-18</td>\n",
       "      <td>1928-02-04</td>\n",
       "      <td>the Netherlands</td>\n",
       "      <td>NL</td>\n",
       "      <td>Arnhem</td>\n",
       "      <td>the Netherlands</td>\n",
       "      <td>NL</td>\n",
       "      <td>male</td>\n",
       "      <td>[{'year': '1902', 'category': 'physics', 'shar...</td>\n",
       "      <td>NaN</td>\n",
       "    </tr>\n",
       "  </tbody>\n",
       "</table>\n",
       "</div>"
      ],
      "text/plain": [
       "   id       firstname  surname        born        died      bornCountry  \\\n",
       "0   2  Hendrik Antoon  Lorentz  1853-07-18  1928-02-04  the Netherlands   \n",
       "\n",
       "  bornCountryCode bornCity      diedCountry diedCountryCode gender  \\\n",
       "0              NL   Arnhem  the Netherlands              NL   male   \n",
       "\n",
       "                                              prizes diedCity  \n",
       "0  [{'year': '1902', 'category': 'physics', 'shar...      NaN  "
      ]
     },
     "execution_count": 88,
     "metadata": {},
     "output_type": "execute_result"
    }
   ],
   "source": [
    "df.head(1)"
   ]
  },
  {
   "cell_type": "code",
   "execution_count": 58,
   "metadata": {},
   "outputs": [],
   "source": [
    "# extract the dictionaries from the list in the prizes column\n",
    "df = df.explode('prizes', ignore_index=True)\n",
    "\n",
    "# split the dictionary items in prizes to separate columns and dataframe\n",
    "prizes = df['prizes'].apply(pd.Series)"
   ]
  },
  {
   "cell_type": "code",
   "execution_count": 73,
   "metadata": {},
   "outputs": [],
   "source": [
    "# create separate columns for the dictionary items in affilaitions and make into a new dataframe\n",
    "# concatenate with the id from the prizes dataframe for future joins\n",
    "prizes = pd.concat([df.id, prizes], axis=1).explode('affiliations', ignore_index=True)\n",
    "\n",
    "# pass the dataframe to variable affiliations\n",
    "affiliations = pd.concat([prizes.id, prizes['affiliations'].apply(lambda x: pd.Series(x, dtype = 'object'))], axis=1)"
   ]
  },
  {
   "cell_type": "code",
   "execution_count": 93,
   "metadata": {},
   "outputs": [],
   "source": [
    "#drop columns that are present in new dataframes\n",
    "\n",
    "df_updated = df.drop('prizes', axis=1)\n",
    "prizes_updated = prizes.drop('affiliations', axis = 1)"
   ]
  },
  {
   "attachments": {},
   "cell_type": "markdown",
   "metadata": {},
   "source": [
    "### save df_updated, prizes and affiliations dataframes\n",
    "df_updated.to_csv('laureates_df.csv', index=False)\n",
    "prizes_updated.to_csv('prizes.csv', index=False)\n",
    "affiliations.to_csv('affiliations', index = False)"
   ]
  },
  {
   "cell_type": "code",
   "execution_count": 96,
   "metadata": {},
   "outputs": [
    {
     "data": {
      "text/plain": [
       "((934, 12), (1005, 6), (1005, 4))"
      ]
     },
     "execution_count": 96,
     "metadata": {},
     "output_type": "execute_result"
    }
   ],
   "source": [
    "df_updated.shape, prizes_updated.shape, affiliations.shape"
   ]
  },
  {
   "cell_type": "code",
   "execution_count": null,
   "metadata": {},
   "outputs": [],
   "source": []
  }
 ],
 "metadata": {
  "kernelspec": {
   "display_name": "Python 3",
   "language": "python",
   "name": "python3"
  },
  "language_info": {
   "codemirror_mode": {
    "name": "ipython",
    "version": 3
   },
   "file_extension": ".py",
   "mimetype": "text/x-python",
   "name": "python",
   "nbconvert_exporter": "python",
   "pygments_lexer": "ipython3",
   "version": "3.11.1"
  },
  "orig_nbformat": 4,
  "vscode": {
   "interpreter": {
    "hash": "f741e7e5b12ff9cb4c53bf2328d7d001c825bae4a512b0c5e469594f0231bc14"
   }
  }
 },
 "nbformat": 4,
 "nbformat_minor": 2
}
